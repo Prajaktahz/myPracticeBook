{
  "nbformat": 4,
  "nbformat_minor": 0,
  "metadata": {
    "colab": {
      "provenance": [],
      "include_colab_link": true
    },
    "kernelspec": {
      "name": "python3",
      "display_name": "Python 3"
    },
    "language_info": {
      "name": "python"
    }
  },
  "cells": [
    {
      "cell_type": "markdown",
      "metadata": {
        "id": "view-in-github",
        "colab_type": "text"
      },
      "source": [
        "<a href=\"https://colab.research.google.com/github/Prajaktahz/myPracticeBook/blob/main/FBA_Week_02_Python_Practice.ipynb\" target=\"_parent\"><img src=\"https://colab.research.google.com/assets/colab-badge.svg\" alt=\"Open In Colab\"/></a>"
      ]
    },
    {
      "cell_type": "markdown",
      "source": [
        "![alt text](http://www.cs.nott.ac.uk/~pszgss/teaching/nlab.png)\n",
        "# FBA Computing Session Week 2:\n",
        "\n",
        "Python Practice\n",
        "\n",
        "This practical focuses on concepts that will be core to our analytics using python:\n",
        "1. Booleans, Comparison Operators, Logical Operators\n",
        "2. If statements\n",
        "3. Block Indentation\n",
        "4. Lists\n",
        "5. For loops\n",
        "\n",
        "## Booleans"
      ],
      "metadata": {
        "id": "-5K2jAD1wX2Y"
      }
    },
    {
      "cell_type": "code",
      "execution_count": 1,
      "metadata": {
        "id": "9_jSV9rWGnaM"
      },
      "outputs": [],
      "source": [
        "x = True\n",
        "y = False"
      ]
    },
    {
      "cell_type": "markdown",
      "source": [
        "**<font color=green><font size=5>&rarr;</font> Check the types of the variables x and y**"
      ],
      "metadata": {
        "id": "r89RRAEpK6Ny"
      }
    },
    {
      "cell_type": "code",
      "source": [
        "# Your code here\n",
        "type(x)"
      ],
      "metadata": {
        "id": "zR7O4P3JB4O8",
        "outputId": "19c540bc-c521-4054-c4ce-8632d953d0ec",
        "colab": {
          "base_uri": "https://localhost:8080/"
        }
      },
      "execution_count": 2,
      "outputs": [
        {
          "output_type": "execute_result",
          "data": {
            "text/plain": [
              "bool"
            ]
          },
          "metadata": {},
          "execution_count": 2
        }
      ]
    },
    {
      "cell_type": "markdown",
      "source": [
        "## Comparison Operators\n",
        "\n",
        "It is often extremely useful in analytics to compare two business variables. Let's define two variables **a** and **b**, you should remember from last week that they have different data types, respectively integer and float."
      ],
      "metadata": {
        "id": "6Gq1E0VbLKCz"
      }
    },
    {
      "cell_type": "code",
      "source": [
        "a = 3\n",
        "b = 3.0"
      ],
      "metadata": {
        "id": "t28ap5uHK5uK"
      },
      "execution_count": 3,
      "outputs": []
    },
    {
      "cell_type": "markdown",
      "source": [
        "**<font color=green><font size=5>&rarr;</font> Experiment the different comparison operators between variables a and b**\n"
      ],
      "metadata": {
        "id": "0ji_myQvL-i1"
      }
    },
    {
      "cell_type": "code",
      "source": [
        "# Your code here\n",
        "a == b"
      ],
      "metadata": {
        "id": "lNhIysZVMSmO",
        "outputId": "ea1218da-1785-4e5b-c81f-88775b411af4",
        "colab": {
          "base_uri": "https://localhost:8080/"
        }
      },
      "execution_count": 4,
      "outputs": [
        {
          "output_type": "execute_result",
          "data": {
            "text/plain": [
              "True"
            ]
          },
          "metadata": {},
          "execution_count": 4
        }
      ]
    },
    {
      "cell_type": "markdown",
      "source": [
        "Comparison operators also work for strings and are **case sensitive**"
      ],
      "metadata": {
        "id": "BXlB38rQMZSp"
      }
    },
    {
      "cell_type": "code",
      "source": [
        "print('hello' == 'Hello')\n",
        "print('dog' != 'cat')"
      ],
      "metadata": {
        "id": "A7s-cqOFMm46",
        "outputId": "04642f35-1388-417d-e144-7992dc155b01",
        "colab": {
          "base_uri": "https://localhost:8080/"
        }
      },
      "execution_count": 5,
      "outputs": [
        {
          "output_type": "stream",
          "name": "stdout",
          "text": [
            "False\n",
            "True\n"
          ]
        }
      ]
    },
    {
      "cell_type": "markdown",
      "source": [
        "You can also use comparison operators between a variable and a value."
      ],
      "metadata": {
        "id": "vrSiLsDHMzoC"
      }
    },
    {
      "cell_type": "code",
      "source": [
        "my_age = 29\n",
        "my_age >= 10"
      ],
      "metadata": {
        "id": "vnsWyAV_NHU2",
        "outputId": "5f2b9ce0-ab1b-463b-b2a2-d39e395ba8c6",
        "colab": {
          "base_uri": "https://localhost:8080/"
        }
      },
      "execution_count": 6,
      "outputs": [
        {
          "output_type": "execute_result",
          "data": {
            "text/plain": [
              "True"
            ]
          },
          "metadata": {},
          "execution_count": 6
        }
      ]
    },
    {
      "cell_type": "markdown",
      "source": [
        "Let's now define a couple of variables:"
      ],
      "metadata": {
        "id": "i8XuJ5W5NN18"
      }
    },
    {
      "cell_type": "code",
      "source": [
        "x_int = 3\n",
        "x_float = 3.0\n",
        "x_string = '3'"
      ],
      "metadata": {
        "id": "JgzLiBuYNRiV"
      },
      "execution_count": 7,
      "outputs": []
    },
    {
      "cell_type": "markdown",
      "source": [
        "**<font color=green><font size=5>&rarr;</font> As you can see, we have defined the 'same' value under different types. Try to cast the variables to different types and experiment the effects on the comparison**"
      ],
      "metadata": {
        "id": "933WgHq4Cwaa"
      }
    },
    {
      "cell_type": "code",
      "source": [
        "# Your code here\n",
        "x = str(x_int)\n",
        "print(x == x_string)"
      ],
      "metadata": {
        "id": "a3BakcuQCzr7",
        "outputId": "f26df03b-7139-4c90-8784-44be16cca193",
        "colab": {
          "base_uri": "https://localhost:8080/"
        }
      },
      "execution_count": 8,
      "outputs": [
        {
          "output_type": "stream",
          "name": "stdout",
          "text": [
            "True\n"
          ]
        }
      ]
    },
    {
      "cell_type": "markdown",
      "source": [
        "## Logical operators\n",
        "\n",
        "**<font color=green><font size=5>&rarr;</font> Below are a set of conditions, ultimately resulting in a Boolean output. Try to add some parenthesis and check how it affects the Boolean value returned**"
      ],
      "metadata": {
        "id": "okjtKYORC5ZF"
      }
    },
    {
      "cell_type": "code",
      "source": [
        "9 % 3 == 0 or 7 + 3 >= 10 and 'this text' == 'This text'"
      ],
      "metadata": {
        "id": "LZ3MACAhDEWj",
        "outputId": "57448556-eadf-4b3a-840c-0877a0848df2",
        "colab": {
          "base_uri": "https://localhost:8080/"
        }
      },
      "execution_count": 9,
      "outputs": [
        {
          "output_type": "execute_result",
          "data": {
            "text/plain": [
              "True"
            ]
          },
          "metadata": {},
          "execution_count": 9
        }
      ]
    },
    {
      "cell_type": "code",
      "source": [
        "# Your code here"
      ],
      "metadata": {
        "id": "8nSWi5hcFs8f"
      },
      "execution_count": null,
      "outputs": []
    },
    {
      "cell_type": "code",
      "source": [
        "# Your code here"
      ],
      "metadata": {
        "id": "jOXT2t_8Fu61"
      },
      "execution_count": null,
      "outputs": []
    },
    {
      "cell_type": "markdown",
      "source": [
        "## If statements\n",
        "\n",
        "\n",
        "The reason we learn comparisons and logical operators in our scripting, is often because we use them in **if** statements (often called conditionals). These will allow our scripts to take different routes and actions depending on the value of certain business variables.\n",
        "\n",
        "Here is an example of an ***if***, ***elif***, ***else*** statement.\n",
        "\n",
        "**<font color=green><font size=5>&rarr;</font> Change the value of the variable to see how the different conditions are met.**"
      ],
      "metadata": {
        "id": "yYMxwpKpDNC2"
      }
    },
    {
      "cell_type": "code",
      "source": [
        "age = 29\n",
        "if age < 10:\n",
        "    print('You are under 10 years old')\n",
        "elif age > 30:\n",
        "    print('You are over 30 years old')\n",
        "else:\n",
        "    print('You are between 10 and 30 years old')"
      ],
      "metadata": {
        "id": "aQ92GNHHDP8H",
        "outputId": "98a07465-bab5-430c-d885-791da440ab21",
        "colab": {
          "base_uri": "https://localhost:8080/"
        }
      },
      "execution_count": 10,
      "outputs": [
        {
          "output_type": "stream",
          "name": "stdout",
          "text": [
            "You are between 10 and 30 years old\n"
          ]
        }
      ]
    },
    {
      "cell_type": "markdown",
      "source": [
        "**<font color=green><font size=5>&rarr;</font> Guess the ouput of this code! Why is that?**"
      ],
      "metadata": {
        "id": "Vf0-Y3uPDStt"
      }
    },
    {
      "cell_type": "code",
      "source": [
        "age = 29\n",
        "if age > 10:\n",
        "    print('You are over 10 years old')\n",
        "if age > 20:\n",
        "    print('You are over 20 years old')"
      ],
      "metadata": {
        "id": "XZ5dXuoXDXc7",
        "outputId": "fac5933b-ff63-49c5-f6d1-624faf78316b",
        "colab": {
          "base_uri": "https://localhost:8080/"
        }
      },
      "execution_count": 11,
      "outputs": [
        {
          "output_type": "stream",
          "name": "stdout",
          "text": [
            "You are over 10 years old\n",
            "You are over 20 years old\n"
          ]
        }
      ]
    },
    {
      "cell_type": "markdown",
      "source": [
        "**<font color=green><font size=5>&rarr;</font> Write a program that defines a variable temperature and tells you how to dress when it is under 10 degrees, between 10 and 30 degrees, and over 30 degrees. Write it two ways, once with the use of a logical operator and once without.**"
      ],
      "metadata": {
        "id": "yCefkoEmDZfo"
      }
    },
    {
      "cell_type": "code",
      "source": [
        "# Your code here\n",
        "temp = 10\n",
        "if temp < 10:\n",
        "  print(\"cold\")\n",
        "elif temp >= 10 and temp < 30:\n",
        "  print('Warm')\n",
        "elif temp >= 30:\n",
        "  print(\"Summer\")"
      ],
      "metadata": {
        "id": "qBM9VMUlGBxx",
        "outputId": "7a82359f-b748-45cb-de74-5edad8582b05",
        "colab": {
          "base_uri": "https://localhost:8080/"
        }
      },
      "execution_count": 15,
      "outputs": [
        {
          "output_type": "stream",
          "name": "stdout",
          "text": [
            "Warm\n"
          ]
        }
      ]
    },
    {
      "cell_type": "code",
      "source": [
        "# Your code here\n",
        "temp = 30\n",
        "if temp < 10:\n",
        "  print('cold')\n",
        "elif temp >= 30:\n",
        "  print('Summer')\n",
        "else:\n",
        "  print('Warm')"
      ],
      "metadata": {
        "id": "y2kmbFnHGICs",
        "outputId": "46c01453-c7a7-4328-d82f-c67fe7f4a068",
        "colab": {
          "base_uri": "https://localhost:8080/"
        }
      },
      "execution_count": 18,
      "outputs": [
        {
          "output_type": "stream",
          "name": "stdout",
          "text": [
            "Summer\n"
          ]
        }
      ]
    },
    {
      "cell_type": "markdown",
      "source": [
        "## Block indentation\n",
        "\n",
        "Remember that when you can define blocks of code by using the correct indentation. You will need it in the rest of this tutorial."
      ],
      "metadata": {
        "id": "kl2JWNpQDagI"
      }
    },
    {
      "cell_type": "markdown",
      "source": [
        "## Loops\n",
        "\n",
        "Loops are the final key part of our basic scripting armoury. By combining variable, if statements and loops, we will be able to do all our analytics problems (although we may use other people's code 'libraries' to make life simpler for us too). Let's see if you can give it a go!\n",
        "\n",
        "**<font color=green><font size=5>&rarr;</font> Write a while loop that prints the numbers from 0 to 20**"
      ],
      "metadata": {
        "id": "KUO0Q-jmGPhc"
      }
    },
    {
      "cell_type": "code",
      "source": [
        "# Your code here\n",
        "i = 0\n",
        "while(i <= 20):\n",
        "  print(i)\n",
        "  i += 1"
      ],
      "metadata": {
        "id": "HQWmHMKeDjFj",
        "outputId": "dc63644f-d7ff-4882-ec38-07c58472736e",
        "colab": {
          "base_uri": "https://localhost:8080/"
        }
      },
      "execution_count": 20,
      "outputs": [
        {
          "output_type": "stream",
          "name": "stdout",
          "text": [
            "0\n",
            "1\n",
            "2\n",
            "3\n",
            "4\n",
            "5\n",
            "6\n",
            "7\n",
            "8\n",
            "9\n",
            "10\n",
            "11\n",
            "12\n",
            "13\n",
            "14\n",
            "15\n",
            "16\n",
            "17\n",
            "18\n",
            "19\n",
            "20\n"
          ]
        }
      ]
    },
    {
      "cell_type": "markdown",
      "source": [
        "**<font color=green><font size=5>&rarr;</font> Write a while loop that displays only the even numbers between 0 and 20**"
      ],
      "metadata": {
        "id": "lfkkAc-zDlGW"
      }
    },
    {
      "cell_type": "code",
      "source": [
        "# Your code here\n",
        "i = 0\n",
        "while(i < 21):\n",
        "  if(i%2 == 0):\n",
        "    print(i)\n",
        "  i += 1"
      ],
      "metadata": {
        "id": "qOkB_cR-DnAZ",
        "outputId": "2fff595a-37de-4ca9-e087-6a37ac65052d",
        "colab": {
          "base_uri": "https://localhost:8080/"
        }
      },
      "execution_count": 21,
      "outputs": [
        {
          "output_type": "stream",
          "name": "stdout",
          "text": [
            "0\n",
            "2\n",
            "4\n",
            "6\n",
            "8\n",
            "10\n",
            "12\n",
            "14\n",
            "16\n",
            "18\n",
            "20\n"
          ]
        }
      ]
    },
    {
      "cell_type": "markdown",
      "source": [
        "**<font color=green><font size=5>&rarr;</font> Do the same using a for loop and the function range()**"
      ],
      "metadata": {
        "id": "ptKPT5RQDsC_"
      }
    },
    {
      "cell_type": "code",
      "source": [
        "# Your code here\n",
        "for i in range(0,21,2):\n",
        "  print(i)"
      ],
      "metadata": {
        "id": "dn1Y8hSpDxn9",
        "outputId": "8c7009c1-861e-4691-fd15-3a471665a90e",
        "colab": {
          "base_uri": "https://localhost:8080/"
        }
      },
      "execution_count": 26,
      "outputs": [
        {
          "output_type": "stream",
          "name": "stdout",
          "text": [
            "0\n",
            "2\n",
            "4\n",
            "6\n",
            "8\n",
            "10\n",
            "12\n",
            "14\n",
            "16\n",
            "18\n",
            "20\n"
          ]
        }
      ]
    },
    {
      "cell_type": "markdown",
      "source": [
        "**<font color=green><font size=5>&rarr;</font> Here is an example of a slightly more complex while loop, try to understand the code and imagine what it will do. Once you have your idea, run the code and check that it behaves as expected!**"
      ],
      "metadata": {
        "id": "5HQ-yCZVD0OY"
      }
    },
    {
      "cell_type": "code",
      "source": [
        "name = ''\n",
        "while name != 'your name':\n",
        "    print('Please type your name:')\n",
        "    name = input()\n",
        "print('Thank you!')"
      ],
      "metadata": {
        "id": "_6szrTbsD0-I",
        "outputId": "cdc69229-3b31-449d-da99-c13a89272873",
        "colab": {
          "base_uri": "https://localhost:8080/"
        }
      },
      "execution_count": 27,
      "outputs": [
        {
          "output_type": "stream",
          "name": "stdout",
          "text": [
            "Please type your name:\n",
            "Raj\n",
            "Please type your name:\n",
            "your name\n",
            "Thank you!\n"
          ]
        }
      ]
    },
    {
      "cell_type": "markdown",
      "source": [
        "**<font color=green><font size=5>&rarr;</font> Copy your code from the previous question and modify it slightly to add a counter that tells you how many tries you have had** e.g: <br/>\n",
        "'This is your try number 1, Please type your name'<br/>\n",
        "'This is your try number 2, Please type your name'"
      ],
      "metadata": {
        "id": "uyVvA-qDD-lQ"
      }
    },
    {
      "cell_type": "code",
      "source": [
        "# Your code here\n",
        "name = ''\n",
        "try_count = 0\n",
        "while name != 'your name':\n",
        "  try_count += 1\n",
        "  print('This is your try number ' + str(try_count) + ', Please type your name:')\n",
        "  name = input()\n",
        "print('Thank you!')"
      ],
      "metadata": {
        "id": "0M9S9LmqEFvJ",
        "outputId": "e1f4c4f2-e17e-43a5-ccf8-2ea2d37229af",
        "colab": {
          "base_uri": "https://localhost:8080/"
        }
      },
      "execution_count": 30,
      "outputs": [
        {
          "output_type": "stream",
          "name": "stdout",
          "text": [
            "This is your try number 1, Please type your name:\n",
            "Raj\n",
            "This is your try number 2, Please type your name:\n",
            "Piya\n",
            "This is your try number 3, Please type your name:\n",
            "your name\n",
            "Thank you!\n"
          ]
        }
      ]
    },
    {
      "cell_type": "markdown",
      "source": [
        "**<font color=green><font size=5>&rarr;</font> Copy your code from the previous question and add the functionnality to get a 'free' try if you type the word 'Joker'!**"
      ],
      "metadata": {
        "id": "ViNQT5C8LRZu"
      }
    },
    {
      "cell_type": "code",
      "source": [
        "# Your code here\n",
        "name = ''\n",
        "try_count = 0\n",
        "while name != 'your name':\n",
        "  try_count += 1\n",
        "  print('This is your try number ' + str(try_count) + ', Please type your name:')\n",
        "  name = input()\n",
        "  if(name == 'Joker'):\n",
        "    try_count -= 1\n",
        "    print('Free try')\n",
        "print('Thank you!')"
      ],
      "metadata": {
        "id": "Ss6qajG5EKTJ",
        "outputId": "1853bf2e-6cc8-438d-dc57-05cf706576b7",
        "colab": {
          "base_uri": "https://localhost:8080/"
        }
      },
      "execution_count": 31,
      "outputs": [
        {
          "output_type": "stream",
          "name": "stdout",
          "text": [
            "This is your try number 1, Please type your name:\n",
            "Joker\n",
            "Free try\n",
            "This is your try number 1, Please type your name:\n",
            "Raj\n",
            "This is your try number 2, Please type your name:\n",
            "Rinku\n",
            "This is your try number 3, Please type your name:\n",
            "Joker\n",
            "Free try\n",
            "This is your try number 3, Please type your name:\n",
            "leena\n",
            "This is your try number 4, Please type your name:\n",
            "your name\n",
            "Thank you!\n"
          ]
        }
      ]
    },
    {
      "cell_type": "markdown",
      "source": [
        "**<font color=green><font size=5>&rarr;</font> Copy your code from the previous question and add the functionnality to exit the loop if you type 'I give up!'**"
      ],
      "metadata": {
        "id": "NccFRJG0EHWr"
      }
    },
    {
      "cell_type": "code",
      "source": [
        "# Your code here\n",
        "name = ''\n",
        "try_count = 0\n",
        "while name != 'your name':\n",
        "  try_count += 1\n",
        "  print('This is your try number ' + str(try_count) + ', Please type your name:')\n",
        "  name = input()\n",
        "  if(name == 'Joker'):\n",
        "    try_count -= 1\n",
        "    print('Free try')\n",
        "  if(name == 'I give up!'):\n",
        "    print('Exiting now')\n",
        "    break\n",
        "print('Thank you!')"
      ],
      "metadata": {
        "id": "H9RUXZT_LUwa",
        "outputId": "c9c0b666-47ce-43bd-872a-076ed3512556",
        "colab": {
          "base_uri": "https://localhost:8080/"
        }
      },
      "execution_count": 32,
      "outputs": [
        {
          "output_type": "stream",
          "name": "stdout",
          "text": [
            "This is your try number 1, Please type your name:\n",
            "Joe\n",
            "This is your try number 2, Please type your name:\n",
            "Joker\n",
            "Free try\n",
            "This is your try number 2, Please type your name:\n",
            "Rinu\n",
            "This is your try number 3, Please type your name:\n",
            "I give up!\n",
            "Exiting now\n",
            "Thank you!\n"
          ]
        }
      ]
    },
    {
      "cell_type": "markdown",
      "source": [
        "## Lists\n",
        "\n",
        "We will, in business problems, always be storing data - in our scripting language, python, lists are the data structure we will often use to do this! Below is a reminder of how you create a new list and assign it to a variable."
      ],
      "metadata": {
        "id": "YTarCVjWEOEN"
      }
    },
    {
      "cell_type": "code",
      "source": [
        "example_list = [2, 34, 27, -8]"
      ],
      "metadata": {
        "id": "DdUjgTNTERfM"
      },
      "execution_count": 33,
      "outputs": []
    },
    {
      "cell_type": "markdown",
      "source": [
        "**<font color=green><font size=5>&rarr;</font> Create a new list containing the days of the week and store it in a variable.**"
      ],
      "metadata": {
        "id": "3Zbrwj4ZEURj"
      }
    },
    {
      "cell_type": "code",
      "source": [
        "# Your code here\n",
        "days = ['Sun','Mon','Tue','Wed','Thurs','Fri','Sat']"
      ],
      "metadata": {
        "id": "0v-gYZNMEVFW"
      },
      "execution_count": 34,
      "outputs": []
    },
    {
      "cell_type": "markdown",
      "source": [
        "## For loops\n",
        "\n",
        "**<font color=green><font size=5>&rarr;</font> Using your newly created list, use a loop to display the different days of the week.**"
      ],
      "metadata": {
        "id": "pgpGmX9_EY__"
      }
    },
    {
      "cell_type": "code",
      "source": [
        "# Your code here\n",
        "for i in days:\n",
        "  print(i)"
      ],
      "metadata": {
        "id": "uAeB-BGWHakq",
        "outputId": "111938bf-1f9c-4b97-936a-d5045245707a",
        "colab": {
          "base_uri": "https://localhost:8080/"
        }
      },
      "execution_count": 35,
      "outputs": [
        {
          "output_type": "stream",
          "name": "stdout",
          "text": [
            "Sun\n",
            "Mon\n",
            "Tue\n",
            "Wed\n",
            "Thurs\n",
            "Fri\n",
            "Sat\n"
          ]
        }
      ]
    },
    {
      "cell_type": "markdown",
      "source": [
        "<hr/>\n",
        "\n",
        "## First Business example - Back to ice creams !\n",
        "\n",
        "Let's now go back to our ice cream business and see how we could have made our lives a bit simpler last week if we had known about lists and loops!\n",
        "\n",
        "Here is a reminder of the sales of our business:\n",
        "\n",
        "|-| January | February | March | April | May | June | July | August | September | October | November | December\n",
        "|-|-|-|-|-|-|-|-|-|-|-|-|-|\n",
        "|2020|£1000|£1100|£1200|£1300|£1400|£1500|£1500|£1400|£1300|£1200|£1100|£1000|\n",
        "|2021|£1100|£1200|£1300|£1400|£1500|£1600|£1600|£1500|£1400|£1300|£1200|£1100|"
      ],
      "metadata": {
        "id": "JnVMEipcEdCJ"
      }
    },
    {
      "cell_type": "markdown",
      "source": [
        "### Revenue 2020\n",
        "\n",
        "**<font color=green><font size=5>&rarr;</font> Create a list that contains the montly sales for year 2020**"
      ],
      "metadata": {
        "id": "Az3kP6x8HmqA"
      }
    },
    {
      "cell_type": "code",
      "source": [
        "# Your code here\n",
        "sales_2020 = [1000,1100,1200,1300,1400,1500,1500,1400,1300,1200,1100,1000]"
      ],
      "metadata": {
        "id": "t5g_JyXjEd9W"
      },
      "execution_count": 36,
      "outputs": []
    },
    {
      "cell_type": "markdown",
      "source": [
        "**<font color=green><font size=5>&rarr;</font> Using a for loop and your list, compute the total revenue for 2020**"
      ],
      "metadata": {
        "id": "2qRn3bZvEkBh"
      }
    },
    {
      "cell_type": "code",
      "source": [
        "# Your code here\n",
        "total_sales_2020 = 0\n",
        "for i in sales_2020:\n",
        "  total_sales_2020 += i\n",
        "\n",
        "print(total_sales_2020)"
      ],
      "metadata": {
        "id": "Xu7qLXHWEl5h",
        "outputId": "934d7a70-9e1f-4189-9e84-e9758c269414",
        "colab": {
          "base_uri": "https://localhost:8080/"
        }
      },
      "execution_count": 38,
      "outputs": [
        {
          "output_type": "stream",
          "name": "stdout",
          "text": [
            "15000\n"
          ]
        }
      ]
    },
    {
      "cell_type": "markdown",
      "source": [
        "### Revenue 2021\n",
        "\n",
        "This time, our ice cream business provided you the list of sales for 2021 which is great, it will save you some typing. Be aware, however, that the tech guy of our ice cream business may have not made the most sensible choices (and this is not made up for this tutorial, this is what you will regurlarly deal with as a data scientist!)."
      ],
      "metadata": {
        "id": "4f6T-cZhEpcG"
      }
    },
    {
      "cell_type": "code",
      "source": [
        "sales_2021 = ['1100','1200','1300','1400','1500','1600','1600','1500','1400','1300','1200','1100']"
      ],
      "metadata": {
        "id": "5oVAUPnuErOc"
      },
      "execution_count": 39,
      "outputs": []
    },
    {
      "cell_type": "markdown",
      "source": [
        "**<font color=green><font size=5>&rarr;</font> Using the provided list, compute the total revenue for 2021**"
      ],
      "metadata": {
        "id": "zowK_1-HEvru"
      }
    },
    {
      "cell_type": "code",
      "source": [
        "# Your code here\n",
        "total_sales_2021 = 0\n",
        "for i in sales_2021:\n",
        "  total_sales_2021 += int(i)\n",
        "\n",
        "print(total_sales_2021)"
      ],
      "metadata": {
        "id": "M8sGZ0uGIPlz",
        "outputId": "659c2b2f-fe3f-4d3d-a95a-90c13e8f7663",
        "colab": {
          "base_uri": "https://localhost:8080/"
        }
      },
      "execution_count": 44,
      "outputs": [
        {
          "output_type": "stream",
          "name": "stdout",
          "text": [
            "16200\n"
          ]
        }
      ]
    },
    {
      "cell_type": "markdown",
      "source": [
        "## Average monthly sale 2021\n",
        "\n",
        "**<font color=green><font size=5>&rarr;</font> Compute the average monthly sale for year 2021**"
      ],
      "metadata": {
        "id": "cjqyApeeE1VU"
      }
    },
    {
      "cell_type": "code",
      "source": [
        "# Your code here\n",
        "avg_sale_2021 = total_sales_2021/len(sales_2021)\n",
        "print(avg_sale_2021)"
      ],
      "metadata": {
        "id": "xzzD1JgcIaUf",
        "outputId": "d119a498-8a0f-486d-f1c5-f12ee5e8c675",
        "colab": {
          "base_uri": "https://localhost:8080/"
        }
      },
      "execution_count": 46,
      "outputs": [
        {
          "output_type": "stream",
          "name": "stdout",
          "text": [
            "1350.0\n"
          ]
        }
      ]
    },
    {
      "cell_type": "markdown",
      "source": [
        "### Under performing months for 2022\n",
        "\n",
        "**<font color=green><font size=5>&rarr;</font> This time, our business has also provided you the monthly sales for 2022 and is interested to see, for each month, whether it has performed better or worse than the average monthly sale for 2021.**"
      ],
      "metadata": {
        "id": "ezKCeZ4RE87m"
      }
    },
    {
      "cell_type": "code",
      "source": [
        "sales_2022 = [500,1600,1700,1800,1900,500,500,500,1800,1700,1600,500]"
      ],
      "metadata": {
        "id": "gpEyOrQrFA2S"
      },
      "execution_count": 47,
      "outputs": []
    },
    {
      "cell_type": "code",
      "source": [
        "# Your code here\n",
        "for i in sales_2022:\n",
        "  if(i < avg_sale_2021):\n",
        "    print(\"Under performed\")\n",
        "  else:\n",
        "    print('better performed')"
      ],
      "metadata": {
        "id": "XiNklDedIqJY",
        "outputId": "eb5ca0a2-7e0b-4bd7-a159-31eb2c214580",
        "colab": {
          "base_uri": "https://localhost:8080/"
        }
      },
      "execution_count": 48,
      "outputs": [
        {
          "output_type": "stream",
          "name": "stdout",
          "text": [
            "Under performed\n",
            "better performed\n",
            "better performed\n",
            "better performed\n",
            "better performed\n",
            "Under performed\n",
            "Under performed\n",
            "Under performed\n",
            "better performed\n",
            "better performed\n",
            "better performed\n",
            "Under performed\n"
          ]
        }
      ]
    },
    {
      "cell_type": "markdown",
      "source": [
        "<hr/>\n",
        "\n",
        "# Market Trading\n",
        "\n",
        "To finish off, let's go back to the Market Trading example you did in handout 3a. If you remember, you had data collected by a market trader who records the sales of two products over a 6 month period:\n",
        "\n",
        "|-|Month 1|Month 2|Month 3|Month 4|Month 5|Month 6|\n",
        "|-|-|-|-|-|-|-|\n",
        "|Sunscreen|5|10|20|25|30|30|\n",
        "|Umbrellas|18|12|8|8|2|0|\n",
        "\n",
        "And were asked to compute the mean and variance for each product so let's do the same with our newly acquired Python knowledge!\n",
        "\n",
        "**<font color=green><font size=5>&rarr;</font> Create two lists to store your data**"
      ],
      "metadata": {
        "id": "rNc2wH0WFF3y"
      }
    },
    {
      "cell_type": "code",
      "source": [
        "# Your code here\n",
        "sunscreen = [5,10,20,25,30,30]\n",
        "umbrellas = [18,12,8,8,2,0]"
      ],
      "metadata": {
        "id": "YK0nDXeyFTwf"
      },
      "execution_count": 49,
      "outputs": []
    },
    {
      "cell_type": "markdown",
      "source": [
        "**<font color=green><font size=5>&rarr;</font> Compute the mean for each product**"
      ],
      "metadata": {
        "id": "Hxbbylz5I5Pu"
      }
    },
    {
      "cell_type": "code",
      "source": [
        "# Mean sunscreen\n",
        "mean_sunscreen = sum(sunscreen)/len(sunscreen)\n",
        "mean_sunscreen"
      ],
      "metadata": {
        "id": "ZUSx56NaFVqh",
        "outputId": "7cf9737e-bbca-42d7-e70f-220ef681cd04",
        "colab": {
          "base_uri": "https://localhost:8080/"
        }
      },
      "execution_count": 50,
      "outputs": [
        {
          "output_type": "execute_result",
          "data": {
            "text/plain": [
              "20.0"
            ]
          },
          "metadata": {},
          "execution_count": 50
        }
      ]
    },
    {
      "cell_type": "code",
      "source": [
        "# Mean umbrellas\n",
        "mean_umbrella = sum(umbrellas)/len(umbrellas)\n",
        "mean_umbrella"
      ],
      "metadata": {
        "id": "MTW5ff3hI9jk",
        "outputId": "b5180a6a-cbb8-4935-f012-b2668a830a39",
        "colab": {
          "base_uri": "https://localhost:8080/"
        }
      },
      "execution_count": 51,
      "outputs": [
        {
          "output_type": "execute_result",
          "data": {
            "text/plain": [
              "8.0"
            ]
          },
          "metadata": {},
          "execution_count": 51
        }
      ]
    },
    {
      "cell_type": "markdown",
      "source": [
        "**<font color=green><font size=5>&rarr;</font> Compute the population variance $\\sigma^2$ for each product**"
      ],
      "metadata": {
        "id": "UUaS9ScbI_lW"
      }
    },
    {
      "cell_type": "code",
      "source": [
        "# For loop to compute sunscreen variance\n",
        "sunscreen_var = 0\n",
        "sum_of_squared = 0\n",
        "for i in sunscreen:\n",
        "  sum_of_squared = sum_of_squared + (i - mean_sunscreen)** 2\n",
        "\n",
        "sunscreen_var = sum_of_squared / len(sunscreen)\n",
        "print(sunscreen_var)"
      ],
      "metadata": {
        "id": "Vx1SdIjvJBPD",
        "outputId": "bd642a74-6543-44a6-aeef-f31a1bb7dcd6",
        "colab": {
          "base_uri": "https://localhost:8080/"
        }
      },
      "execution_count": 52,
      "outputs": [
        {
          "output_type": "stream",
          "name": "stdout",
          "text": [
            "91.66666666666667\n"
          ]
        }
      ]
    },
    {
      "cell_type": "code",
      "source": [
        "# For loop to compute umbrella variance\n",
        "umbrella_var = 0\n",
        "sum_of_squared = 0\n",
        "for i in umbrellas:\n",
        "  sum_of_squared = sum_of_squared + (i - mean_umbrella)** 2\n",
        "\n",
        "umbrella_var = sum_of_squared / len(umbrellas)\n",
        "print(umbrella_var)"
      ],
      "metadata": {
        "id": "ZwGTYjolJDmJ",
        "outputId": "13418d8b-b77b-48ce-95b4-ebf1fa041ec0",
        "colab": {
          "base_uri": "https://localhost:8080/"
        }
      },
      "execution_count": 53,
      "outputs": [
        {
          "output_type": "stream",
          "name": "stdout",
          "text": [
            "36.0\n"
          ]
        }
      ]
    },
    {
      "cell_type": "code",
      "source": [],
      "metadata": {
        "id": "yZcQyqLRCzVj"
      },
      "execution_count": null,
      "outputs": []
    }
  ]
}