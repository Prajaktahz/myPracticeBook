{
  "nbformat": 4,
  "nbformat_minor": 0,
  "metadata": {
    "colab": {
      "provenance": [],
      "include_colab_link": true
    },
    "kernelspec": {
      "name": "python3",
      "display_name": "Python 3"
    },
    "language_info": {
      "name": "python"
    }
  },
  "cells": [
    {
      "cell_type": "markdown",
      "metadata": {
        "id": "view-in-github",
        "colab_type": "text"
      },
      "source": [
        "<a href=\"https://colab.research.google.com/github/Prajaktahz/myPracticeBook/blob/main/FBA_Week_03_Python_Practice.ipynb\" target=\"_parent\"><img src=\"https://colab.research.google.com/assets/colab-badge.svg\" alt=\"Open In Colab\"/></a>"
      ]
    },
    {
      "cell_type": "markdown",
      "source": [
        "![alt text](http://www.cs.nott.ac.uk/~pszgss/teaching/nlab.png)\n",
        "# FBA Computing Session Week 3:\n",
        "\n",
        "Python Practice\n",
        "\n",
        "Remember that it is vital that you learn to script - as a top business analyst you will often be looking to generate insight from large amounts of business data. While software such as SPSS and excel <i>aren't</i> sufficient for processing data of that scale, scripting languages are built to do exactly that! Because of this, when hiring for the best analyst jobs, companies expect knowledge about either python or R as a pre-requisite.\n",
        "\n",
        "Now, we have so far learnt the basic tools of scripting: variables, conditionals and loops. These are absolutely key to have an instinctive undertanding of. But of course, learning how to manipulate business data requires more than that: we need to understand \"data structures\".\n",
        "\n",
        "The two core Python data structures that we will become familiar with today are:\n",
        "\n",
        "1. Lists\n",
        "2. Dictionaries\n",
        "\n",
        "#### Make sure that you learn these as they will underpin all of our analyses.\n",
        "\n",
        "<hr/>\n",
        "Ok, to get started, let's refresh our minds of what lists are."
      ],
      "metadata": {
        "id": "-5K2jAD1wX2Y"
      }
    },
    {
      "cell_type": "markdown",
      "source": [
        "# A Practice Case - Selling fruits!\n",
        "\n",
        "To get to practice our lists, dictionaries and their associated methods we are going to use a simple case study, where we are tasked with helping a fruit merchant.\n",
        "\n",
        "To start with, we are going to sell some mango, pears, bananas and apples, so first create a list containing these 4 fruits."
      ],
      "metadata": {
        "id": "aC12BA9d3BOG"
      }
    },
    {
      "cell_type": "code",
      "execution_count": 1,
      "metadata": {
        "id": "9_jSV9rWGnaM"
      },
      "outputs": [],
      "source": [
        "# enter your code here\n",
        "fruits = ['mango', 'pears','bananas','apples']"
      ]
    },
    {
      "cell_type": "markdown",
      "source": [
        "The merchant forgot to tell you but he is also stocking some peaches. Using the **.append()** method, add it to our list of fruits.\n",
        "\n",
        "(Don't forget to print your list once you have changed it to check if it worked as expected.)"
      ],
      "metadata": {
        "id": "r89RRAEpK6Ny"
      }
    },
    {
      "cell_type": "code",
      "source": [
        "# enter your code here\n",
        "fruits.append('peaches')"
      ],
      "metadata": {
        "id": "zR7O4P3JB4O8"
      },
      "execution_count": 2,
      "outputs": []
    },
    {
      "cell_type": "markdown",
      "source": [
        "There was also some mis-communication, in that the merchant does not have any mango after all. Update your list accordingly using the method **.remove()**.\n",
        "\n",
        "(Don't forget to print your list once you have changed it to check if it worked as expected.)"
      ],
      "metadata": {
        "id": "6Gq1E0VbLKCz"
      }
    },
    {
      "cell_type": "code",
      "source": [
        "# enter your code here\n",
        "print(fruits)\n",
        "fruits.remove('mango')"
      ],
      "metadata": {
        "id": "t28ap5uHK5uK",
        "outputId": "77efeab5-2240-41b6-d962-63b73bf47615",
        "colab": {
          "base_uri": "https://localhost:8080/"
        }
      },
      "execution_count": 3,
      "outputs": [
        {
          "output_type": "stream",
          "name": "stdout",
          "text": [
            "['mango', 'pears', 'bananas', 'apples', 'peaches']\n"
          ]
        }
      ]
    },
    {
      "cell_type": "code",
      "source": [
        "print(fruits)"
      ],
      "metadata": {
        "id": "0W1qOYLSRd8d",
        "outputId": "5096b7ff-40f5-4742-c833-203397257920",
        "colab": {
          "base_uri": "https://localhost:8080/"
        }
      },
      "execution_count": 4,
      "outputs": [
        {
          "output_type": "stream",
          "name": "stdout",
          "text": [
            "['pears', 'bananas', 'apples', 'peaches']\n"
          ]
        }
      ]
    },
    {
      "cell_type": "markdown",
      "source": [
        "In addition to the fruits list, the merchant is also going to provide you a list of prices for his fruits. Unfortunately, he doesn't follow best practices as he used a list to store the price of each fruit **ordered in the alphabetical order**. (i.e. the first price corresponds to 'apples', the last one to 'pears')"
      ],
      "metadata": {
        "id": "0ji_myQvL-i1"
      }
    },
    {
      "cell_type": "code",
      "source": [
        "price_list = [1.35, 0.99, 4, 2.99, 2.25]"
      ],
      "metadata": {
        "id": "lNhIysZVMSmO"
      },
      "execution_count": 5,
      "outputs": []
    },
    {
      "cell_type": "markdown",
      "source": [
        "The first step to be able to match our two datasources (i.e. our list **fruits** and the provided list **price_list**), is to sort our list fruits in the alphabetical order using the method .sort().\n",
        "\n",
        "Afterwards, print the result of your sorted list to check if it was correctly performed."
      ],
      "metadata": {
        "id": "BXlB38rQMZSp"
      }
    },
    {
      "cell_type": "code",
      "source": [
        "# enter your code here\n",
        "fruits.sort()\n",
        "fruits"
      ],
      "metadata": {
        "id": "A7s-cqOFMm46",
        "outputId": "57ccade7-276f-4bf3-b067-1a5c95f4f1a2",
        "colab": {
          "base_uri": "https://localhost:8080/"
        }
      },
      "execution_count": 6,
      "outputs": [
        {
          "output_type": "execute_result",
          "data": {
            "text/plain": [
              "['apples', 'bananas', 'peaches', 'pears']"
            ]
          },
          "metadata": {},
          "execution_count": 6
        }
      ]
    },
    {
      "cell_type": "markdown",
      "source": [
        "You may have noticed, the price list contains 5 prices but we only have 4 fruits. Another mis-communication ... This time, the merchant forgot to tell you he also sells cherries which we need to add to our **fruits** list (get used to these as a business analyst - the data you have will always need some 'cleansing'!)\n",
        "\n",
        "Unfortunately, we have also sorted our list in the alphabetical order so we need to be carreful when we add cherries to the list if we want the prices to correspond! 'cherries' will be the 3rd fruit in the alphabetical order (after 'apples' and 'bananas' and before 'peaches' and 'pears').\n",
        "\n",
        "Using the **.insert()** method, add 'cherries' to our **fruits** list so that it appears in 3rd position to respect the alphabetical sorting. Remember, list indexing starts at 0 (zero) !!!"
      ],
      "metadata": {
        "id": "vrSiLsDHMzoC"
      }
    },
    {
      "cell_type": "code",
      "source": [
        "#enter your code here\n",
        "fruits.insert(2, 'cherries')\n",
        "fruits"
      ],
      "metadata": {
        "id": "vnsWyAV_NHU2",
        "outputId": "fd92e58c-736a-4445-be60-f85b88c166b3",
        "colab": {
          "base_uri": "https://localhost:8080/"
        }
      },
      "execution_count": 9,
      "outputs": [
        {
          "output_type": "execute_result",
          "data": {
            "text/plain": [
              "['apples', 'bananas', 'cherries', 'peaches', 'pears']"
            ]
          },
          "metadata": {},
          "execution_count": 9
        }
      ]
    },
    {
      "cell_type": "markdown",
      "source": [
        "You should now have a list **fruits** that contains the following values in that order: ['apples', 'bananas', 'cherries', 'peaches', 'pears']. Print your list to make sure it is the case!"
      ],
      "metadata": {
        "id": "i8XuJ5W5NN18"
      }
    },
    {
      "cell_type": "code",
      "source": [
        "#enter your print statement here\n",
        "print(fruits)"
      ],
      "metadata": {
        "id": "JgzLiBuYNRiV",
        "outputId": "6018c958-c164-45e1-d151-962094ecd618",
        "colab": {
          "base_uri": "https://localhost:8080/"
        }
      },
      "execution_count": 10,
      "outputs": [
        {
          "output_type": "stream",
          "name": "stdout",
          "text": [
            "['apples', 'bananas', 'cherries', 'peaches', 'pears']\n"
          ]
        }
      ]
    },
    {
      "cell_type": "markdown",
      "source": [
        "Let's check everything matches - create a loop using a variable i and a <b>range(5)</b> function, that on each iteration of the loop prints out the name of the next fruit, next to its price"
      ],
      "metadata": {
        "id": "933WgHq4Cwaa"
      }
    },
    {
      "cell_type": "code",
      "source": [
        "#enter your loop here\n",
        "for i in range(5):\n",
        "  print(fruits[i] + \":\" + str(price_list[i]))"
      ],
      "metadata": {
        "id": "a3BakcuQCzr7",
        "outputId": "529d0a92-a038-4c6b-9b3e-56badc58d52d",
        "colab": {
          "base_uri": "https://localhost:8080/"
        }
      },
      "execution_count": 11,
      "outputs": [
        {
          "output_type": "stream",
          "name": "stdout",
          "text": [
            "apples:1.35\n",
            "bananas:0.99\n",
            "cherries:4\n",
            "peaches:2.99\n",
            "pears:2.25\n"
          ]
        }
      ]
    },
    {
      "cell_type": "markdown",
      "source": [
        "### Dictionaries\n",
        "\n",
        "Okay, so we have two lists (one for items, one for prices) whose items match. But it might be easier if this information was in a dictionary called **prices**. Let's create just this.\n",
        "\n",
        "First of all, create an empty dictionary stored in a variable named **prices** (as a reminder, you define a dictionary using { } instead of [ ] for a list):"
      ],
      "metadata": {
        "id": "okjtKYORC5ZF"
      }
    },
    {
      "cell_type": "code",
      "source": [
        "#enter your empty dictionary declaration here\n",
        "prices = {}"
      ],
      "metadata": {
        "id": "LZ3MACAhDEWj"
      },
      "execution_count": 12,
      "outputs": []
    },
    {
      "cell_type": "markdown",
      "source": [
        "We could add every element in a single line declaration as follows:\n",
        "\n",
        "(note we don't assign this dictionary into the prices variable as we don't want to remember it for now):"
      ],
      "metadata": {
        "id": "yYMxwpKpDNC2"
      }
    },
    {
      "cell_type": "code",
      "source": [
        "{'apples':1.35, 'bananas':0.99, 'cherries':4, 'peaches':2.99, 'pears':2.25}"
      ],
      "metadata": {
        "id": "aQ92GNHHDP8H",
        "outputId": "04c8d8bf-17d5-44b7-9723-f4f36b69a289",
        "colab": {
          "base_uri": "https://localhost:8080/"
        }
      },
      "execution_count": 13,
      "outputs": [
        {
          "output_type": "execute_result",
          "data": {
            "text/plain": [
              "{'apples': 1.35,\n",
              " 'bananas': 0.99,\n",
              " 'cherries': 4,\n",
              " 'peaches': 2.99,\n",
              " 'pears': 2.25}"
            ]
          },
          "metadata": {},
          "execution_count": 13
        }
      ]
    },
    {
      "cell_type": "markdown",
      "source": [
        "Or we could add them line by line as follows:"
      ],
      "metadata": {
        "id": "Vf0-Y3uPDStt"
      }
    },
    {
      "cell_type": "code",
      "source": [
        "prices['apples'] = 1.35"
      ],
      "metadata": {
        "id": "XZ5dXuoXDXc7"
      },
      "execution_count": 14,
      "outputs": []
    },
    {
      "cell_type": "markdown",
      "source": [
        "Add every item using the key assignment syntax shown above, so prices is a full dictionary!"
      ],
      "metadata": {
        "id": "yCefkoEmDZfo"
      }
    },
    {
      "cell_type": "code",
      "source": [
        "# enter your code here\n",
        "prices['bananas'] = 0.99\n",
        "prices['cherries'] = 4\n",
        "prices['peaches'] = 2.99\n",
        "prices['pears'] = 2.25\n",
        "# print out the result\n",
        "print(prices)"
      ],
      "metadata": {
        "id": "qBM9VMUlGBxx",
        "outputId": "0cd92a39-69f1-44ff-fe82-abbf4eda6aba",
        "colab": {
          "base_uri": "https://localhost:8080/"
        }
      },
      "execution_count": 16,
      "outputs": [
        {
          "output_type": "stream",
          "name": "stdout",
          "text": [
            "{'apples': 1.35, 'bananas': 0.99, 'cherries': 4, 'peaches': 2.99, 'pears': 2.25}\n"
          ]
        }
      ]
    },
    {
      "cell_type": "markdown",
      "source": [
        "A final option for doing this (given we had the data already in lists) would have been to use a loop. If we'd had hundreds of stock items to enter in, that were already in lists, this would have been invaluable.\n",
        "\n",
        "Using a **for** loop and the **range** function, iterate through the indexes of your previous created lists: **fruits** and **price_list** (remember both lists contains 5 elements in order, which are a matching fruit and price).\n",
        "\n",
        "Accessing values by index, you can get the fruit name and the fruit price to populate our **prices** dictionary using the fruit name as a key and the price as the value.\n",
        "\n",
        "Try this now, and don't forget to print your dictionary after (and outside) your for loop to see if it was correctly populated."
      ],
      "metadata": {
        "id": "kl2JWNpQDagI"
      }
    },
    {
      "cell_type": "code",
      "source": [
        "#enter your empty dictionary declaration here so we can start again\n",
        "prices = {}\n",
        "\n",
        "#enter your looping code here\n",
        "for i in range(5):\n",
        "  prices[fruits[i]] = price_list[i]\n",
        "#print out the results. Does it match your previous, line-by-line created dictionary?\n",
        "print(prices)"
      ],
      "metadata": {
        "id": "pOwWvSceigi6",
        "outputId": "6e21579e-9ede-4a31-db42-ecf40b4dd0df",
        "colab": {
          "base_uri": "https://localhost:8080/"
        }
      },
      "execution_count": 17,
      "outputs": [
        {
          "output_type": "stream",
          "name": "stdout",
          "text": [
            "{'apples': 1.35, 'bananas': 0.99, 'cherries': 4, 'peaches': 2.99, 'pears': 2.25}\n"
          ]
        }
      ]
    },
    {
      "cell_type": "markdown",
      "source": [
        "## Putting it all together\n",
        "\n",
        "Okay, let's combine this with user input on stock amounts. First,  create an empty dictionary that we will store in a variable **stock**:"
      ],
      "metadata": {
        "id": "KUO0Q-jmGPhc"
      }
    },
    {
      "cell_type": "code",
      "source": [
        "#enter your empty dictionary declaration here\n",
        "stock = {}"
      ],
      "metadata": {
        "id": "HQWmHMKeDjFj"
      },
      "execution_count": 18,
      "outputs": []
    },
    {
      "cell_type": "markdown",
      "source": [
        "You are now going to write a small script that interacts with the user to populate our fruit stock dictionary. Using a **for** loop and the list **fruits**, iterate through each fruit you are stocking and ask the user to **input()** the stock for that fruit (e.g. : 'How many bananas do you have in stock? 549'). Use the fruit name as the key and the quantity entered by the user as the value to populate your **stock** dictionary."
      ],
      "metadata": {
        "id": "lfkkAc-zDlGW"
      }
    },
    {
      "cell_type": "code",
      "source": [
        "#enter your for loop here that iterates through the fruit\n",
        "for i in range(5):\n",
        "    #inside the loop ask the user how much stock that fruit has\n",
        "    stock_val = int(input('Enter how many ' + fruits[i] + ' have in stock? '))\n",
        "    #and then add whatever info they input into the stock dictionary\n",
        "    stock[fruits[i]] = stock_val\n",
        "\n",
        "#finally print out the results\n",
        "print(stock)"
      ],
      "metadata": {
        "id": "qOkB_cR-DnAZ",
        "outputId": "b54edd7e-8bf3-42a9-bb2b-b385d88534c9",
        "colab": {
          "base_uri": "https://localhost:8080/"
        }
      },
      "execution_count": 20,
      "outputs": [
        {
          "output_type": "stream",
          "name": "stdout",
          "text": [
            "Enter how many apples have in stock? 12\n",
            "Enter how many bananas have in stock? 5\n",
            "Enter how many cherries have in stock? 34\n",
            "Enter how many peaches have in stock? 15\n",
            "Enter how many pears have in stock? 56\n",
            "{'apples': 12, 'bananas': 5, 'cherries': 34, 'peaches': 15, 'pears': 56}\n"
          ]
        }
      ]
    },
    {
      "cell_type": "markdown",
      "source": [
        "The last thing that our merchant would like to know is how much money is his stock of fruits worth. Using a **for** loop, your list **fruits** and your two dictionaries **stock** and **prices**, compute the total value of his merchandise, based on the stock amounts you input. (i.e. apples are £1.35 each so if you stated that he has, for example, 100 of them, his apple stock is worth £135 - to which you will need to add bananas, cherries, peaches and pears).\n",
        "\n",
        "This may be a tricky loop the first time"
      ],
      "metadata": {
        "id": "ptKPT5RQDsC_"
      }
    },
    {
      "cell_type": "code",
      "source": [
        "#create a variable that will keep track of your running stock worth\n",
        "#(which you will add to each time you go round the loop)\n",
        "total_stock_value = 0\n",
        "\n",
        "#enter your code here that loops through the fruits\n",
        "for i in range(5):\n",
        "  total_stock_value += prices[fruits[i]] * stock[fruits[i]]\n",
        "\n",
        "#print out the final stock worth\n",
        "print('The total stock is worth £' + str(total_stock_value))"
      ],
      "metadata": {
        "id": "dn1Y8hSpDxn9",
        "outputId": "c4c69639-a085-4c57-a303-37a7109ccf5c",
        "colab": {
          "base_uri": "https://localhost:8080/"
        }
      },
      "execution_count": 22,
      "outputs": [
        {
          "output_type": "stream",
          "name": "stdout",
          "text": [
            "The total stock is worth £328.0\n"
          ]
        }
      ]
    },
    {
      "cell_type": "markdown",
      "source": [
        "<hr/>\n",
        "\n",
        "## Case Study Example 2 - back to ice creams!\n",
        "\n",
        "Let's now go back to our ice cream business and see how we could have made our lives a bit simpler last week if we had known about lists and loops!\n",
        "\n",
        "Here is a reminder of the sales of our business:\n",
        "\n",
        "|-| January | February | March | April | May | June | July | August | September | October | November | December\n",
        "|-|-|-|-|-|-|-|-|-|-|-|-|-|\n",
        "|2020|£1000|£1100|£1200|£1300|£1400|£1500|£1500|£1400|£1300|£1200|£1100|£1000|\n",
        "|2021|£1100|£1200|£1300|£1400|£1500|£1600|£1600|£1500|£1400|£1300|£1200|£1100|\n",
        "|2022|£500|£1600|£1700|£1800|£1900|£500|£500|£500|£1800|£1700|£1600|£500|"
      ],
      "metadata": {
        "id": "5HQ-yCZVD0OY"
      }
    },
    {
      "cell_type": "markdown",
      "source": [
        "You are given the following sales data, already put into your script by previous analysts (normally we'd have to load this in from a csv file or sql database ourselves!):"
      ],
      "metadata": {
        "id": "lTbLZBzzjCRE"
      }
    },
    {
      "cell_type": "code",
      "source": [
        "sales_2020 = [1000, 1100, 1200, 1300, 1400, 1500, 1500, 1400, 1300, 1200, 1100, 1000]\n",
        "sales_2021 = ['1100', '1200', '1300', '1400', '1500', '1600', '1600', '1500', '1400', '1300', '1200', '1100']\n",
        "sales_2022 = [500.0, 1600.0, 1700.0, 1800.0, 1900.0, 500.0, 500.0, 500.0, 1800.0, 1700.0, 1600.0, 500.0]"
      ],
      "metadata": {
        "id": "_6szrTbsD0-I"
      },
      "execution_count": 23,
      "outputs": []
    },
    {
      "cell_type": "markdown",
      "source": [
        "Note that not everything is in the same format! Anyhow, we'll deal with that later (data cleansing required again at some point!). First, create a list containing the months of a year from January till December:"
      ],
      "metadata": {
        "id": "uyVvA-qDD-lQ"
      }
    },
    {
      "cell_type": "code",
      "source": [
        "#enter your code here\n",
        "months = ['jan', 'feb','mar','apr','may','jun','jul','aug','sep','oct','nov','dec']"
      ],
      "metadata": {
        "id": "0M9S9LmqEFvJ"
      },
      "execution_count": 24,
      "outputs": []
    },
    {
      "cell_type": "markdown",
      "source": [
        "Now, remember that we can access the data in a list by using an index (which always starts from zero!). For example, we can access individual sales results as follows:"
      ],
      "metadata": {
        "id": "ViNQT5C8LRZu"
      }
    },
    {
      "cell_type": "code",
      "source": [
        "print(\"Example sales in 2020:\")\n",
        "print(months[0], sales_2020[0])\n",
        "\n",
        "print()\n",
        "\n",
        "print(\"Example sales in 2021:\")\n",
        "print(months[2], sales_2021[2])"
      ],
      "metadata": {
        "id": "Ss6qajG5EKTJ",
        "outputId": "bcf5e49f-7b96-449a-e9af-0ba972ba84c4",
        "colab": {
          "base_uri": "https://localhost:8080/"
        }
      },
      "execution_count": 25,
      "outputs": [
        {
          "output_type": "stream",
          "name": "stdout",
          "text": [
            "Example sales in 2020:\n",
            "jan 1000\n",
            "\n",
            "Example sales in 2021:\n",
            "mar 1300\n"
          ]
        }
      ]
    },
    {
      "cell_type": "markdown",
      "source": [
        "Note that March, being the 3rd month, is indexed by a 2 because we start counting from zero.\n",
        "\n",
        "As above, print out the sales for December 2022:"
      ],
      "metadata": {
        "id": "NccFRJG0EHWr"
      }
    },
    {
      "cell_type": "code",
      "source": [
        "#enter your code here\n",
        "print(months[11], sales_2022[11])"
      ],
      "metadata": {
        "id": "H9RUXZT_LUwa",
        "outputId": "456bd5fb-ee49-405b-db63-ccb7e7190568",
        "colab": {
          "base_uri": "https://localhost:8080/"
        }
      },
      "execution_count": 26,
      "outputs": [
        {
          "output_type": "stream",
          "name": "stdout",
          "text": [
            "dec 500.0\n"
          ]
        }
      ]
    },
    {
      "cell_type": "markdown",
      "source": [
        "Use a loop to print the sales for each of the months in 2022 on a separate line. To do this use a variable called <b>i</b> and the <b>range</b> function to enumerate your loop, and then use <b>i</b> to index the sales and name of each month from their lists."
      ],
      "metadata": {
        "id": "YTarCVjWEOEN"
      }
    },
    {
      "cell_type": "code",
      "source": [
        "#enter your code here\n",
        "for i in range(len(months)):\n",
        "  print(months[i], sales_2022[i])"
      ],
      "metadata": {
        "id": "YK0nDXeyFTwf",
        "outputId": "0fa97077-14fc-443f-ec11-687539bb2f84",
        "colab": {
          "base_uri": "https://localhost:8080/"
        }
      },
      "execution_count": 27,
      "outputs": [
        {
          "output_type": "stream",
          "name": "stdout",
          "text": [
            "jan 500.0\n",
            "feb 1600.0\n",
            "mar 1700.0\n",
            "apr 1800.0\n",
            "may 1900.0\n",
            "jun 500.0\n",
            "jul 500.0\n",
            "aug 500.0\n",
            "sep 1800.0\n",
            "oct 1700.0\n",
            "nov 1600.0\n",
            "dec 500.0\n"
          ]
        }
      ]
    },
    {
      "cell_type": "markdown",
      "source": [
        "Update your code above, so it prints out in a format like \"The month of January 2021 had sales of £ 1400\" (note the use of the pound sign, and that the number displayed is an integer and not a float!)"
      ],
      "metadata": {
        "id": "Hxbbylz5I5Pu"
      }
    },
    {
      "cell_type": "code",
      "source": [
        "#enter your code here\n",
        "for i in range(len(months)):\n",
        "  print('The month of ' + months[i] + ' 2021 had sales of £ '+ str(int(sales_2022[i])))"
      ],
      "metadata": {
        "id": "ZUSx56NaFVqh",
        "outputId": "ef62bd3b-cb45-483c-9dc4-05d55550ec7d",
        "colab": {
          "base_uri": "https://localhost:8080/"
        }
      },
      "execution_count": 31,
      "outputs": [
        {
          "output_type": "stream",
          "name": "stdout",
          "text": [
            "The month of jan 2021 had sales of £ 500\n",
            "The month of feb 2021 had sales of £ 1600\n",
            "The month of mar 2021 had sales of £ 1700\n",
            "The month of apr 2021 had sales of £ 1800\n",
            "The month of may 2021 had sales of £ 1900\n",
            "The month of jun 2021 had sales of £ 500\n",
            "The month of jul 2021 had sales of £ 500\n",
            "The month of aug 2021 had sales of £ 500\n",
            "The month of sep 2021 had sales of £ 1800\n",
            "The month of oct 2021 had sales of £ 1700\n",
            "The month of nov 2021 had sales of £ 1600\n",
            "The month of dec 2021 had sales of £ 500\n"
          ]
        }
      ]
    },
    {
      "cell_type": "markdown",
      "source": [
        "Remember, you don't have to use <b>range()</b> to loop round a list of data. You can just iterate through each item in the list itself as follows:"
      ],
      "metadata": {
        "id": "UUaS9ScbI_lW"
      }
    },
    {
      "cell_type": "code",
      "source": [
        "for value in sales_2021:\n",
        "    print(value)"
      ],
      "metadata": {
        "id": "Vx1SdIjvJBPD",
        "outputId": "131f126d-00bf-4b97-fa2c-85d8042c8d59",
        "colab": {
          "base_uri": "https://localhost:8080/"
        }
      },
      "execution_count": 32,
      "outputs": [
        {
          "output_type": "stream",
          "name": "stdout",
          "text": [
            "1100\n",
            "1200\n",
            "1300\n",
            "1400\n",
            "1500\n",
            "1600\n",
            "1600\n",
            "1500\n",
            "1400\n",
            "1300\n",
            "1200\n",
            "1100\n"
          ]
        }
      ]
    },
    {
      "cell_type": "markdown",
      "source": [
        "But doing so means we can't connect the indices of lists together. Having two parallel lists, with each index containing related information in each (in our example our months and sales values were paired) is very common in scripting. However, another option is to use a dictionary.\n",
        "\n",
        "Here's an example of a dictionary that uses the month of the year as a key, and the number of days in it as the corresponding value (on a non-leap year!):"
      ],
      "metadata": {
        "id": "ZK1q0EJAkXnU"
      }
    },
    {
      "cell_type": "code",
      "source": [
        "days = {'Jan':31, 'Feb':28, 'Mar':31, 'Apr':30, 'May':31, 'Jun':30, 'Jul':31, 'Aug':31, 'Sep':30, 'Nov':30, 'Oct':31, 'Dec':31}\n",
        "print(days)"
      ],
      "metadata": {
        "id": "ZwGTYjolJDmJ",
        "outputId": "b2604ccc-8f93-49f4-ccbf-488d8dcbde35",
        "colab": {
          "base_uri": "https://localhost:8080/"
        }
      },
      "execution_count": 33,
      "outputs": [
        {
          "output_type": "stream",
          "name": "stdout",
          "text": [
            "{'Jan': 31, 'Feb': 28, 'Mar': 31, 'Apr': 30, 'May': 31, 'Jun': 30, 'Jul': 31, 'Aug': 31, 'Sep': 30, 'Nov': 30, 'Oct': 31, 'Dec': 31}\n"
          ]
        }
      ]
    },
    {
      "cell_type": "markdown",
      "source": [
        "And here's a loop that could display them in a tabular form:"
      ],
      "metadata": {
        "id": "CPVP1C2Qkm6Q"
      }
    },
    {
      "cell_type": "code",
      "source": [
        "for d in days:\n",
        "    print(d, days[d])"
      ],
      "metadata": {
        "id": "qyMmpw4_kpeS",
        "outputId": "472351c9-352e-4271-b9ea-3065132bd3d5",
        "colab": {
          "base_uri": "https://localhost:8080/"
        }
      },
      "execution_count": 34,
      "outputs": [
        {
          "output_type": "stream",
          "name": "stdout",
          "text": [
            "Jan 31\n",
            "Feb 28\n",
            "Mar 31\n",
            "Apr 30\n",
            "May 31\n",
            "Jun 30\n",
            "Jul 31\n",
            "Aug 31\n",
            "Sep 30\n",
            "Nov 30\n",
            "Oct 31\n",
            "Dec 31\n"
          ]
        }
      ]
    },
    {
      "cell_type": "code",
      "source": [
        "for p in prices:\n",
        "  print(p , prices[p])"
      ],
      "metadata": {
        "id": "ySJfojuEXsCT",
        "outputId": "c9ab3b9c-30a3-40bf-ca7a-509271dfeaa3",
        "colab": {
          "base_uri": "https://localhost:8080/"
        }
      },
      "execution_count": 35,
      "outputs": [
        {
          "output_type": "stream",
          "name": "stdout",
          "text": [
            "apples 1.35\n",
            "bananas 0.99\n",
            "cherries 4\n",
            "peaches 2.99\n",
            "pears 2.25\n"
          ]
        }
      ]
    },
    {
      "cell_type": "markdown",
      "source": [
        "Examine what a loop iterating through a dictionary does. Unlike for a list, it puts the <b>key</b> into the variable, rather than the associated value. The key is then used as an index itself in the loop to access the corresponding value in the print statement.\n",
        "\n",
        "We can also add key-value pairs to dictionaries gradually:"
      ],
      "metadata": {
        "id": "5G_wggV7kt0a"
      }
    },
    {
      "cell_type": "code",
      "source": [
        "dict_sales_2020 = {}\n",
        "dict_sales_2020['Jan'] = 1000\n",
        "dict_sales_2020['Feb'] = 1100\n",
        "\n",
        "#-- and we can use variables as the key for a dictionary if we so wanted:\n",
        "month = 'Mar'\n",
        "dict_sales_2020[month] = 1200\n",
        "\n",
        "dict_sales_2020"
      ],
      "metadata": {
        "id": "EyYswj4YkxKJ",
        "outputId": "89e60ce8-0526-47b3-ba93-aaa3802abc60",
        "colab": {
          "base_uri": "https://localhost:8080/"
        }
      },
      "execution_count": 36,
      "outputs": [
        {
          "output_type": "execute_result",
          "data": {
            "text/plain": [
              "{'Jan': 1000, 'Feb': 1100, 'Mar': 1200}"
            ]
          },
          "metadata": {},
          "execution_count": 36
        }
      ]
    },
    {
      "cell_type": "markdown",
      "source": [
        "However, it would be much easier to do this in a loop as we have 12 months to do (and this is especially true as our datasets get larger)!\n",
        "\n",
        "See if you can create the same dictionary as above, but using a loop. On each iteration use the loops iteration as an index to the <b>months</b> and <b>sales_2020</b> lists, setting them as the key and value of the dictionary entry respectively."
      ],
      "metadata": {
        "id": "Nz_a1wgHk_FR"
      }
    },
    {
      "cell_type": "code",
      "source": [
        "dict_sales_2020 = {}\n",
        "#enter your looping code here\n",
        "for i in range(12):\n",
        "  dict_sales_2020[months[i]] = sales_2020[i]\n",
        "\n",
        "#print out the results\n",
        "print(dict_sales_2020)"
      ],
      "metadata": {
        "id": "RaLk0JY2lF0B",
        "outputId": "50cff654-dc18-4b8e-b295-c150d7cd4285",
        "colab": {
          "base_uri": "https://localhost:8080/"
        }
      },
      "execution_count": 37,
      "outputs": [
        {
          "output_type": "stream",
          "name": "stdout",
          "text": [
            "{'jan': 1000, 'feb': 1100, 'mar': 1200, 'apr': 1300, 'may': 1400, 'jun': 1500, 'jul': 1500, 'aug': 1400, 'sep': 1300, 'oct': 1200, 'nov': 1100, 'dec': 1000}\n"
          ]
        }
      ]
    },
    {
      "cell_type": "markdown",
      "source": [
        "Reproduce the same steps to convert your lists of sales 2021 and 2022 to dictionaries, but making sure that all entries are now integers."
      ],
      "metadata": {
        "id": "snfsfzh1lIVJ"
      }
    },
    {
      "cell_type": "code",
      "source": [
        "dict_sales_2021 = {}\n",
        "#enter your looping code here\n",
        "for i in range(12):\n",
        "  dict_sales_2021[months[i]] = sales_2021[i]\n",
        "\n",
        "#print out the results\n",
        "print(dict_sales_2021)"
      ],
      "metadata": {
        "id": "FBLh9oJblPag",
        "outputId": "f1f63ad9-c35d-449b-a4ea-d511053acfb5",
        "colab": {
          "base_uri": "https://localhost:8080/"
        }
      },
      "execution_count": 38,
      "outputs": [
        {
          "output_type": "stream",
          "name": "stdout",
          "text": [
            "{'jan': '1100', 'feb': '1200', 'mar': '1300', 'apr': '1400', 'may': '1500', 'jun': '1600', 'jul': '1600', 'aug': '1500', 'sep': '1400', 'oct': '1300', 'nov': '1200', 'dec': '1100'}\n"
          ]
        }
      ]
    },
    {
      "cell_type": "markdown",
      "source": [
        "You should now have 3 dictionaries containing the sales for years 2020, 2021 and 2022.\n",
        "\n",
        "Combine all of these themselves as values in another dictionary (you can name it **dict_yearly_sales** for example) taking the year as its key - and then print out the results."
      ],
      "metadata": {
        "id": "EMQ6fFQzlT4_"
      }
    },
    {
      "cell_type": "code",
      "source": [
        "dict_sales_2022 = {}\n",
        "#enter your looping code here\n",
        "for i in range(12):\n",
        "  dict_sales_2022[months[i]] = int(sales_2022[i])\n",
        "\n",
        "#print out the results\n",
        "print(dict_sales_2022)"
      ],
      "metadata": {
        "id": "iamHb53VlfvK",
        "outputId": "6126317b-249c-4928-d1d6-fed2db12a187",
        "colab": {
          "base_uri": "https://localhost:8080/"
        }
      },
      "execution_count": 40,
      "outputs": [
        {
          "output_type": "stream",
          "name": "stdout",
          "text": [
            "{'jan': 500, 'feb': 1600, 'mar': 1700, 'apr': 1800, 'may': 1900, 'jun': 500, 'jul': 500, 'aug': 500, 'sep': 1800, 'oct': 1700, 'nov': 1600, 'dec': 500}\n"
          ]
        }
      ]
    },
    {
      "cell_type": "markdown",
      "source": [
        "Well, that's already quite a lot of data already. Note that just like SQL tables, dictionaries have fields and values. And also like SQL tables, the order of the fields doesn't matter - you have to reference them by the correct key.\n",
        "\n",
        "## Analysing the Ice Cream sales data\n",
        "\n",
        "We now have some well structured data and can take advantage of that to perform some standard analysis on our business.\n",
        "\n",
        "Let's start by computing the total sales for each year using the dictionary that we have freshly created (i.e. from the previous question). Using a **for** loop, print something like 'In 2020, total sales were £...', 'In 2021, total sales were £...' ..."
      ],
      "metadata": {
        "id": "0l2oRG0MljJS"
      }
    },
    {
      "cell_type": "code",
      "source": [
        "#enter your looping code here, printing on each iteration of the loop...\n",
        "dict_yearly_sales = {\n",
        "    2020: dict_sales_2020,\n",
        "    2021: dict_sales_2021,\n",
        "    2022: dict_sales_2022\n",
        "}"
      ],
      "metadata": {
        "id": "5NgEtDD3lt7J"
      },
      "execution_count": 41,
      "outputs": []
    },
    {
      "cell_type": "code",
      "source": [
        "for i in dict_yearly_sales:\n",
        "  sales = 0\n",
        "  for j in dict_yearly_sales[i]:\n",
        "    sales += int(dict_yearly_sales[i][j])\n",
        "  print('Sales for ',i, ' is ', sales)"
      ],
      "metadata": {
        "id": "cMy2EqmqZP_8",
        "outputId": "5cf0a72e-b613-4d25-fb6e-a3e32b462564",
        "colab": {
          "base_uri": "https://localhost:8080/"
        }
      },
      "execution_count": 49,
      "outputs": [
        {
          "output_type": "stream",
          "name": "stdout",
          "text": [
            "Sales for  2020  is  15000\n",
            "Sales for  2021  is  16200\n",
            "Sales for  2022  is  14600\n"
          ]
        }
      ]
    },
    {
      "cell_type": "markdown",
      "source": [
        "In addition to yearly sales, we are interested in the performance per trimester (and for each year):\n",
        "    - Trimester 1 : Jan, Feb, Mar\n",
        "    - Trimester 2 : Apr, May, Jun\n",
        "    - Trimester 3 : Jul, Aug, Sep\n",
        "    - Trimester 4 : Oct, Nov, Dec\n",
        "    \n",
        "Let's start by creating a variable **trimester_1** that extracts the first 3 months of our list **months** using slices. Follow the same principle to create the variables **trimester_2**, **trimester_3** and **trimester_4**"
      ],
      "metadata": {
        "id": "pTQS8ywflzQE"
      }
    },
    {
      "cell_type": "code",
      "source": [
        "# In the first question of the case study, you should have defined months like that:\n",
        "months = ['jan', 'feb','mar','apr','may','jun','jul','aug','sep','oct','nov','dec']\n",
        "\n",
        "# your code here\n",
        "trimester_1 = months[0:3]\n",
        "trimester_2 = months[3:6]\n",
        "trimester_3 = months[6:9]\n",
        "trimester_4 = months[9:12]\n",
        "\n",
        "print(trimester_1)\n",
        "print(trimester_2)\n",
        "print(trimester_3)\n",
        "print(trimester_4)"
      ],
      "metadata": {
        "id": "_al_R3H_mH-E",
        "outputId": "7366a609-be63-4b12-aea2-463b669610fd",
        "colab": {
          "base_uri": "https://localhost:8080/"
        }
      },
      "execution_count": 60,
      "outputs": [
        {
          "output_type": "stream",
          "name": "stdout",
          "text": [
            "['jan', 'feb', 'mar']\n",
            "['apr', 'may', 'jun']\n",
            "['jul', 'aug', 'sep']\n",
            "['oct', 'nov', 'dec']\n"
          ]
        }
      ]
    },
    {
      "cell_type": "markdown",
      "source": [
        "Using two **for** loops (to iterate through your years and months), and **if** statements that use the **in** operator (to check if a month is part of trimester), display on the screen the performance of each trimester and for each year like 'In Semester 1 of 2020, the sales were £...'."
      ],
      "metadata": {
        "id": "YrNefYCymKkE"
      }
    },
    {
      "cell_type": "code",
      "source": [
        "#enter your code here - good luck!\n",
        "for year in dict_yearly_sales:\n",
        "  t1_sales = 0\n",
        "  t2_sales = 0\n",
        "  t3_sales = 0\n",
        "  t4_sales = 0\n",
        "  for month in dict_yearly_sales[year]:\n",
        "    if month in trimester_1:\n",
        "      t1_sales += int(dict_yearly_sales[year][month])\n",
        "    elif month in trimester_2:\n",
        "      t2_sales += int(dict_yearly_sales[year][month])\n",
        "    elif month in trimester_3:\n",
        "      t3_sales += int(dict_yearly_sales[year][month])\n",
        "    elif month in trimester_4:\n",
        "      t4_sales += int(dict_yearly_sales[year][month])\n",
        "  print(year, t1_sales, t2_sales, t3_sales, t4_sales)\n",
        "\n"
      ],
      "metadata": {
        "id": "msaWviKvmNv_",
        "outputId": "141a816b-46af-446b-e00b-38c672d2c66e",
        "colab": {
          "base_uri": "https://localhost:8080/"
        }
      },
      "execution_count": 65,
      "outputs": [
        {
          "output_type": "stream",
          "name": "stdout",
          "text": [
            "2020 3300 4200 4200 3300\n",
            "2021 3600 4500 4500 3600\n",
            "2022 3800 4200 2800 3800\n"
          ]
        }
      ]
    },
    {
      "cell_type": "code",
      "source": [],
      "metadata": {
        "id": "ALCmK62QcYIb"
      },
      "execution_count": null,
      "outputs": []
    }
  ]
}